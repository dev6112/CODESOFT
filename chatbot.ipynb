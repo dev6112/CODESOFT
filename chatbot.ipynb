{
 "cells": [
  {
   "cell_type": "code",
   "execution_count": null,
   "id": "688cef65",
   "metadata": {},
   "outputs": [
    {
     "name": "stdout",
     "output_type": "stream",
     "text": [
      "You: hello\n",
      "Bot: Hello! How can I assist you today?\n",
      "You: how are you\n",
      "Bot: I am just a computer program, but I am here to help you!\n",
      "You: bye\n",
      "Bot: I'm sorry, I don't understand. Can you please rephrase or ask another question?\n"
     ]
    }
   ],
   "source": [
    "def chatbot_response(user_input):\n",
    "    # Predefined rules and responses\n",
    "    rules = {\n",
    "        'hello': 'Hello! How can I assist you today?',\n",
    "        'how are you': 'I am just a computer program, but I am here to help you!',\n",
    "        'goodbye': 'Goodbye! Have a great day!',\n",
    "        'default': \"I'm sorry, I don't understand. Can you please rephrase or ask another question?\"\n",
    "    }\n",
    "\n",
    "    # Convert user input to lowercase for case-insensitive matching\n",
    "    user_input = user_input.lower()\n",
    "\n",
    "    # Check for predefined rules\n",
    "    if user_input in rules:\n",
    "        return rules[user_input]\n",
    "    else:\n",
    "        return rules['default']\n",
    "\n",
    "# Example usage\n",
    "user_input = input(\"You: \")\n",
    "while user_input.lower() != 'exit':\n",
    "    response = chatbot_response(user_input)\n",
    "    print(\"Bot:\", response)\n",
    "    user_input = input(\"You: \")\n"
   ]
  }
 ],
 "metadata": {
  "kernelspec": {
   "display_name": "Python 3 (ipykernel)",
   "language": "python",
   "name": "python3"
  },
  "language_info": {
   "codemirror_mode": {
    "name": "ipython",
    "version": 3
   },
   "file_extension": ".py",
   "mimetype": "text/x-python",
   "name": "python",
   "nbconvert_exporter": "python",
   "pygments_lexer": "ipython3",
   "version": "3.11.3"
  }
 },
 "nbformat": 4,
 "nbformat_minor": 5
}
