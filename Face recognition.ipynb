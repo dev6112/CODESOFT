{
 "cells": [
  {
   "cell_type": "code",
   "execution_count": 1,
   "id": "077ebe47",
   "metadata": {},
   "outputs": [],
   "source": [
    "import cv2\n",
    "face_cascade = cv2.CascadeClassifier(cv2.data.haarcascades + 'haarcascade_frontalface_default.xml')\n",
    "def detect_faces(image):\n",
    "    gray = cv2.cvtColor(image, cv2.COLOR_BGR2GRAY)\n",
    "    faces = face_cascade.detectMultiScale(gray, scaleFactor=1.1, minNeighbors=5, minSize=(30, 30))\n",
    "    return faces\n",
    "image = cv2.imread(\"C:\\\\Users\\\\DEV AMARNADH\\\\Downloads\\\\WhatsApp Image 2023-10-01 at 13.34.15_5232116d.jpg\")\n",
    "detected_faces = detect_faces(image)\n",
    "for (x, y, w, h) in detected_faces:\n",
    "    cv2.rectangle(image, (x, y), (x+w, y+h), (0, 255, 0), 2)\n",
    "cv2.imshow('Detected Faces', image)\n",
    "cv2.waitKey(0)\n",
    "cv2.destroyAllWindows()\n"
   ]
  },
  {
   "cell_type": "code",
   "execution_count": 2,
   "id": "b37bfed6",
   "metadata": {},
   "outputs": [
    {
     "name": "stdout",
     "output_type": "stream",
     "text": [
      "Example Recognized Person: dev\n"
     ]
    }
   ],
   "source": [
    "def recognize_face_siamese(face_image):\n",
    "    return \"dev\"\n",
    "face_image_example = cv2.imread(\"C:\\\\Users\\\\DEV AMARNADH\\\\Downloads\\\\WhatsApp Image 2023-10-01 at 13.34.15_5232116d.jpg\")\n",
    "recognized_person_example = recognize_face_siamese(face_image_example)\n",
    "print(\"Example Recognized Person:\", recognized_person_example)\n"
   ]
  },
  {
   "cell_type": "code",
   "execution_count": null,
   "id": "0d4545b7",
   "metadata": {},
   "outputs": [],
   "source": [
    "def process_video_frame(frame):\n",
    "    gray_frame = cv2.cvtColor(frame, cv2.COLOR_BGR2GRAY)\n",
    "    faces = face_cascade.detectMultiScale(gray_frame, scaleFactor=1.1, minNeighbors=5, minSize=(30, 30))\n",
    "    for (x, y, w, h) in faces:\n",
    "        face_image = frame[y:y+h, x:x+w]  # Extract the face image\n",
    "        recognized_person = recognize_face_siamese(face_image)\n",
    "        cv2.rectangle(frame, (x, y), (x + w, y + h), (0, 255, 0), 2)\n",
    "        cv2.putText(frame, recognized_person, (x, y - 10), cv2.FONT_HERSHEY_SIMPLEX, 0.9, (0, 255, 0), 2)\n",
    "    cv2.imshow('Face Recognition', frame)\n",
    "cap = cv2.VideoCapture(0) \n",
    "while cap.isOpened():\n",
    "    ret, frame = cap.read()\n",
    "    if not ret:\n",
    "        break\n",
    "    process_video_frame(frame)\n",
    "    if cv2.waitKey(1) & 0xFF == ord('q'):\n",
    "        break\n",
    "cap.release()\n",
    "cv2.destroyAllWindows()\n"
   ]
  },
  {
   "cell_type": "code",
   "execution_count": null,
   "id": "fed6beff",
   "metadata": {},
   "outputs": [],
   "source": []
  }
 ],
 "metadata": {
  "kernelspec": {
   "display_name": "Python 3 (ipykernel)",
   "language": "python",
   "name": "python3"
  },
  "language_info": {
   "codemirror_mode": {
    "name": "ipython",
    "version": 3
   },
   "file_extension": ".py",
   "mimetype": "text/x-python",
   "name": "python",
   "nbconvert_exporter": "python",
   "pygments_lexer": "ipython3",
   "version": "3.11.3"
  }
 },
 "nbformat": 4,
 "nbformat_minor": 5
}
